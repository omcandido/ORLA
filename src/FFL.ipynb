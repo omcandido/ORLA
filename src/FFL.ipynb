{
 "cells": [
  {
   "cell_type": "code",
   "execution_count": 1,
   "metadata": {},
   "outputs": [
    {
     "name": "stdout",
     "output_type": "stream",
     "text": [
      "Using device: cpu\n"
     ]
    }
   ],
   "source": [
    "import torch\n",
    "import utils\n",
    "\n",
    "from environments.foggy_frozen_lake.utils import argument_actions\n",
    "from environments.foggy_frozen_lake.FFL import FFL\n",
    "\n",
    "from agents.orla import ORLABaseline\n",
    "import numpy as np\n",
    "import pandas as pd\n",
    "from tqdm.notebook import tqdm\n",
    "import matplotlib.pyplot as plt\n",
    "\n",
    "device = torch.device('cuda' if torch.cuda.is_available() else 'cpu')\n",
    "print('Using device:', device)"
   ]
  },
  {
   "attachments": {},
   "cell_type": "markdown",
   "metadata": {},
   "source": [
    "# Using ORLA to solve Foggy Frozen Lake (FFL)\n",
    "This jupyter notebook showcases the use of [ORLA](https://github.com/omcandido/ORLA) to solve the FFL game, which is a variation of Frozen Lake (FL), an archetypal text-based game that comes with Gymnasium out-of-the-box.\n",
    "\n",
    "In its original formulation, FL consists of a squared grid-like world where some cells are frozen (F) and others are holes (H). The agent needs to go from the start (S) in the upper left corner to the goal (G) in the lower right corner. Here is a text-based example of ORLA solving this game:\n",
    "\n",
    "<center><img src=\"../imgs/FL.gif\" width=\"350\"></center>\n",
    "\n",
    "\n",
    "## Frozen Lake with a twist\n",
    "To make things more interesting, we introduce FFL, a variant of FL where the player can only observe its immediately neigbouring cells (as if some kind of dense fog shortened the player's sight) and the tile index it is at.\n",
    "Here is a graphics-rendered example where the elf is the player and the red square around it represents observations:\n",
    "<center><img src=\"../imgs/FFL.gif\" width=\"350\"></center>\n",
    "\n",
    "This new formulation of the game is done to create a hiden state of the game so that the player needs both factual knowledge (derived from the current state of the world) and memory knowledge (derived from past states) to achieve a high score.\n",
    "\n"
   ]
  },
  {
   "attachments": {},
   "cell_type": "markdown",
   "metadata": {},
   "source": [
    "## An Argumentation Framework (AF) to play FFL\n",
    "\n",
    "An argumentation framework is a set of arguments and attacks, where each argument recommends an action when all its associated conditions (premises) are satisfied at some point in the game. Every two attacks that recommend different actions attack each other.\n",
    "\n",
    "With this in mind, we can come up with the following set of arguments:\n",
    "```\n",
    "-  U: go UP      if   cell-up     is   safe\n",
    "-  D: go DOWN    if   cell-down   is   safe\n",
    "-  L: go LEFT    if   cell-left   is   safe\n",
    "-  R: go RIGHT   if   cell-right  is   safe\n",
    "- nU: go UP      if   cell-up     is   safe   &   new\n",
    "- nD: go DOWN    if   cell-down   is   safe   &   new\n",
    "- nL: go LEFT    if   cell-left   is   safe   &   new\n",
    "- nR: go RIGHT   if   cell-right  is   safe   &   new\n",
    "```\n",
    "\n",
    "Where arguments X promote exploring safe tiles and arguments nX promote exploring safe and unexplored squares. The complete AF can be represented through a graph, where the directed arrows represent attacks between arguments (i.e., A->B means A attacks B) would look like this:\n",
    "\n",
    "<center><img src=\"../imgs/AF_FFL.png\" width=\"300\"></center>\n",
    "\n",
    "\n"
   ]
  },
  {
   "attachments": {},
   "cell_type": "markdown",
   "metadata": {},
   "source": [
    "## Learning a good ranking with ORLA\n",
    "\n",
    "The goal of ORLA is to learn a ranking of the arguments such that the derived value-based argumentation framework (VAF) can be used as an inference engine by the agent to solve FFL.\n",
    "\n",
    "ORLA is task-agnostic. This means that it just tries to maximise the reward of an MDP (see paper) regardless of what the specific task is. In this case, the task to solve is FFL. The rest of this notebook explains how to implement everything necessary to have ORLA solve FFL. If you want to apply ORLA to your own reinforcement learning task, follow along and create your own task-specific code.\n",
    "\n",
    "\n",
    "#### Create a dictionary for your arguments and actions\n",
    "ORLA needs a dictionary of the form ``{argument_name: action_name}``. This is what the arguments for ORLA look like in code:"
   ]
  },
  {
   "cell_type": "code",
   "execution_count": 2,
   "metadata": {},
   "outputs": [
    {
     "data": {
      "text/plain": [
       "{'U': <FLActions.UP: 3>,\n",
       " 'L': <FLActions.LEFT: 0>,\n",
       " 'R': <FLActions.RIGHT: 2>,\n",
       " 'D': <FLActions.DOWN: 1>,\n",
       " 'nD': <FLActions.DOWN: 1>,\n",
       " 'nL': <FLActions.LEFT: 0>,\n",
       " 'nR': <FLActions.RIGHT: 2>,\n",
       " 'nU': <FLActions.UP: 3>}"
      ]
     },
     "execution_count": 2,
     "metadata": {},
     "output_type": "execute_result"
    }
   ],
   "source": [
    "argument_actions"
   ]
  },
  {
   "attachments": {},
   "cell_type": "markdown",
   "metadata": {},
   "source": [
    "\n",
    "#### Extend the ``Environment`` class\n",
    "The interaction between the task and ORLA takes place via the abstract ``Environment`` class. You will need to inherit this class and implement your own methods:\n",
    "- ``get_premises``: from the current observation and memory, which premises hold?\n",
    "- ``get_arguments``: from the current premises, what arguments are applicable?\n",
    "- ``update_memory``: how should memory be updated at each step?\n",
    "- ``reset_memory``: how should memory be initialised?\n"
   ]
  },
  {
   "attachments": {},
   "cell_type": "markdown",
   "metadata": {},
   "source": [
    "### Training\n",
    "Once the Arguments and the Environment are defined, we can instantiate an ORLA agent and train it for 10k of episodes. Note that we are sampling a new environment every episode, so ORLA will have to learn a policy for the distribution of FFL games with paramenters ``n`` and ``p``.\n",
    "\n"
   ]
  },
  {
   "cell_type": "code",
   "execution_count": 21,
   "metadata": {},
   "outputs": [
    {
     "data": {
      "application/vnd.jupyter.widget-view+json": {
       "model_id": "294c93aba96e4267af373e55843a64e5",
       "version_major": 2,
       "version_minor": 0
      },
      "text/plain": [
       "  0%|          | 0/10000 [00:00<?, ?it/s]"
      ]
     },
     "metadata": {},
     "output_type": "display_data"
    },
    {
     "ename": "KeyboardInterrupt",
     "evalue": "",
     "output_type": "error",
     "traceback": [
      "\u001b[1;31m---------------------------------------------------------------------------\u001b[0m",
      "\u001b[1;31mKeyboardInterrupt\u001b[0m                         Traceback (most recent call last)",
      "Cell \u001b[1;32mIn[21], line 23\u001b[0m\n\u001b[0;32m     20\u001b[0m env \u001b[39m=\u001b[39m FFL(argument_actions, n, p)\n\u001b[0;32m     22\u001b[0m orla\u001b[39m.\u001b[39mnet\u001b[39m.\u001b[39mtrain()\n\u001b[1;32m---> 23\u001b[0m ranking, prob \u001b[39m=\u001b[39m orla\u001b[39m.\u001b[39;49mdecode_ranking()\n\u001b[0;32m     24\u001b[0m score \u001b[39m=\u001b[39m env\u001b[39m.\u001b[39mplay(ranking)\n\u001b[0;32m     25\u001b[0m returns\u001b[39m.\u001b[39mappend(score)\n",
      "File \u001b[1;32md:\\ORLA\\src\\agents\\agent.py:52\u001b[0m, in \u001b[0;36mAgent.decode_ranking\u001b[1;34m(self, greedy)\u001b[0m\n\u001b[0;32m     50\u001b[0m \u001b[39mdef\u001b[39;00m \u001b[39mdecode_ranking\u001b[39m(\u001b[39mself\u001b[39m, greedy:\u001b[39mbool\u001b[39m\u001b[39m=\u001b[39m\u001b[39mFalse\u001b[39;00m) \u001b[39m-\u001b[39m\u001b[39m>\u001b[39m Tuple[List[\u001b[39mstr\u001b[39m], List[\u001b[39mfloat\u001b[39m]]:\n\u001b[0;32m     51\u001b[0m     \u001b[39mif\u001b[39;00m \u001b[39mself\u001b[39m\u001b[39m.\u001b[39mmode \u001b[39m==\u001b[39m Mode\u001b[39m.\u001b[39mSTRICT:\n\u001b[1;32m---> 52\u001b[0m         \u001b[39mreturn\u001b[39;00m \u001b[39mself\u001b[39;49m\u001b[39m.\u001b[39;49m__decode_ranking_strict(greedy)\n\u001b[0;32m     53\u001b[0m     \u001b[39mif\u001b[39;00m \u001b[39mself\u001b[39m\u001b[39m.\u001b[39mmode \u001b[39m==\u001b[39m Mode\u001b[39m.\u001b[39mNON_STRICT:\n\u001b[0;32m     54\u001b[0m         \u001b[39mreturn\u001b[39;00m \u001b[39mself\u001b[39m\u001b[39m.\u001b[39m__decode_ranking_non_strict(greedy)\n",
      "File \u001b[1;32md:\\ORLA\\src\\agents\\agent.py:65\u001b[0m, in \u001b[0;36mAgent.__decode_ranking_strict\u001b[1;34m(self, greedy)\u001b[0m\n\u001b[0;32m     63\u001b[0m remaining \u001b[39m=\u001b[39m \u001b[39mself\u001b[39m\u001b[39m.\u001b[39mremaining_arguments(ranking)\n\u001b[0;32m     64\u001b[0m mask \u001b[39m=\u001b[39m \u001b[39mself\u001b[39m\u001b[39m.\u001b[39mmask_remaining(remaining)\n\u001b[1;32m---> 65\u001b[0m probs \u001b[39m=\u001b[39m \u001b[39mself\u001b[39;49m\u001b[39m.\u001b[39;49mget_action_probs(state, mask)\n\u001b[0;32m     66\u001b[0m distribution \u001b[39m=\u001b[39m Categorical(probs)\n\u001b[0;32m     67\u001b[0m sample_idx \u001b[39m=\u001b[39m torch\u001b[39m.\u001b[39margmax(probs) \u001b[39mif\u001b[39;00m greedy \u001b[39melse\u001b[39;00m distribution\u001b[39m.\u001b[39msample()\n",
      "File \u001b[1;32md:\\ORLA\\src\\agents\\orla.py:44\u001b[0m, in \u001b[0;36mORLA.get_action_probs\u001b[1;34m(self, state, mask)\u001b[0m\n\u001b[0;32m     42\u001b[0m state_flat \u001b[39m=\u001b[39m torch\u001b[39m.\u001b[39mfrom_numpy(state)\u001b[39m.\u001b[39mfloat()\u001b[39m.\u001b[39mflatten()\u001b[39m.\u001b[39mto(\u001b[39mself\u001b[39m\u001b[39m.\u001b[39mdevice)\n\u001b[0;32m     43\u001b[0m \u001b[39mself\u001b[39m\u001b[39m.\u001b[39mnet\u001b[39m.\u001b[39mmask \u001b[39m=\u001b[39m torch\u001b[39m.\u001b[39mfrom_numpy(mask)\u001b[39m.\u001b[39mbool()\u001b[39m.\u001b[39mto(\u001b[39mself\u001b[39m\u001b[39m.\u001b[39mdevice)\n\u001b[1;32m---> 44\u001b[0m probs \u001b[39m=\u001b[39m \u001b[39mself\u001b[39;49m\u001b[39m.\u001b[39;49mnet(state_flat)\n\u001b[0;32m     45\u001b[0m \u001b[39mreturn\u001b[39;00m probs\n",
      "File \u001b[1;32md:\\ORLA\\.venv\\lib\\site-packages\\torch\\nn\\modules\\module.py:1501\u001b[0m, in \u001b[0;36mModule._call_impl\u001b[1;34m(self, *args, **kwargs)\u001b[0m\n\u001b[0;32m   1496\u001b[0m \u001b[39m# If we don't have any hooks, we want to skip the rest of the logic in\u001b[39;00m\n\u001b[0;32m   1497\u001b[0m \u001b[39m# this function, and just call forward.\u001b[39;00m\n\u001b[0;32m   1498\u001b[0m \u001b[39mif\u001b[39;00m \u001b[39mnot\u001b[39;00m (\u001b[39mself\u001b[39m\u001b[39m.\u001b[39m_backward_hooks \u001b[39mor\u001b[39;00m \u001b[39mself\u001b[39m\u001b[39m.\u001b[39m_backward_pre_hooks \u001b[39mor\u001b[39;00m \u001b[39mself\u001b[39m\u001b[39m.\u001b[39m_forward_hooks \u001b[39mor\u001b[39;00m \u001b[39mself\u001b[39m\u001b[39m.\u001b[39m_forward_pre_hooks\n\u001b[0;32m   1499\u001b[0m         \u001b[39mor\u001b[39;00m _global_backward_pre_hooks \u001b[39mor\u001b[39;00m _global_backward_hooks\n\u001b[0;32m   1500\u001b[0m         \u001b[39mor\u001b[39;00m _global_forward_hooks \u001b[39mor\u001b[39;00m _global_forward_pre_hooks):\n\u001b[1;32m-> 1501\u001b[0m     \u001b[39mreturn\u001b[39;00m forward_call(\u001b[39m*\u001b[39margs, \u001b[39m*\u001b[39m\u001b[39m*\u001b[39mkwargs)\n\u001b[0;32m   1502\u001b[0m \u001b[39m# Do not call functions when jit is used\u001b[39;00m\n\u001b[0;32m   1503\u001b[0m full_backward_hooks, non_full_backward_hooks \u001b[39m=\u001b[39m [], []\n",
      "File \u001b[1;32md:\\ORLA\\src\\agents\\orla.py:33\u001b[0m, in \u001b[0;36mORLA.Net.forward\u001b[1;34m(self, x)\u001b[0m\n\u001b[0;32m     32\u001b[0m \u001b[39mdef\u001b[39;00m \u001b[39mforward\u001b[39m(\u001b[39mself\u001b[39m, x):\n\u001b[1;32m---> 33\u001b[0m     x \u001b[39m=\u001b[39m \u001b[39mself\u001b[39;49m\u001b[39m.\u001b[39;49mfc_in(x)\n\u001b[0;32m     34\u001b[0m     x \u001b[39m=\u001b[39m F\u001b[39m.\u001b[39mrelu(x)\n\u001b[0;32m     35\u001b[0m     \u001b[39m# x = self.fc_h(x)\u001b[39;00m\n\u001b[0;32m     36\u001b[0m     \u001b[39m# x = F.relu(x)\u001b[39;00m\n",
      "File \u001b[1;32md:\\ORLA\\.venv\\lib\\site-packages\\torch\\nn\\modules\\module.py:1501\u001b[0m, in \u001b[0;36mModule._call_impl\u001b[1;34m(self, *args, **kwargs)\u001b[0m\n\u001b[0;32m   1496\u001b[0m \u001b[39m# If we don't have any hooks, we want to skip the rest of the logic in\u001b[39;00m\n\u001b[0;32m   1497\u001b[0m \u001b[39m# this function, and just call forward.\u001b[39;00m\n\u001b[0;32m   1498\u001b[0m \u001b[39mif\u001b[39;00m \u001b[39mnot\u001b[39;00m (\u001b[39mself\u001b[39m\u001b[39m.\u001b[39m_backward_hooks \u001b[39mor\u001b[39;00m \u001b[39mself\u001b[39m\u001b[39m.\u001b[39m_backward_pre_hooks \u001b[39mor\u001b[39;00m \u001b[39mself\u001b[39m\u001b[39m.\u001b[39m_forward_hooks \u001b[39mor\u001b[39;00m \u001b[39mself\u001b[39m\u001b[39m.\u001b[39m_forward_pre_hooks\n\u001b[0;32m   1499\u001b[0m         \u001b[39mor\u001b[39;00m _global_backward_pre_hooks \u001b[39mor\u001b[39;00m _global_backward_hooks\n\u001b[0;32m   1500\u001b[0m         \u001b[39mor\u001b[39;00m _global_forward_hooks \u001b[39mor\u001b[39;00m _global_forward_pre_hooks):\n\u001b[1;32m-> 1501\u001b[0m     \u001b[39mreturn\u001b[39;00m forward_call(\u001b[39m*\u001b[39margs, \u001b[39m*\u001b[39m\u001b[39m*\u001b[39mkwargs)\n\u001b[0;32m   1502\u001b[0m \u001b[39m# Do not call functions when jit is used\u001b[39;00m\n\u001b[0;32m   1503\u001b[0m full_backward_hooks, non_full_backward_hooks \u001b[39m=\u001b[39m [], []\n",
      "File \u001b[1;32md:\\ORLA\\.venv\\lib\\site-packages\\torch\\nn\\modules\\linear.py:114\u001b[0m, in \u001b[0;36mLinear.forward\u001b[1;34m(self, input)\u001b[0m\n\u001b[0;32m    113\u001b[0m \u001b[39mdef\u001b[39;00m \u001b[39mforward\u001b[39m(\u001b[39mself\u001b[39m, \u001b[39minput\u001b[39m: Tensor) \u001b[39m-\u001b[39m\u001b[39m>\u001b[39m Tensor:\n\u001b[1;32m--> 114\u001b[0m     \u001b[39mreturn\u001b[39;00m F\u001b[39m.\u001b[39;49mlinear(\u001b[39minput\u001b[39;49m, \u001b[39mself\u001b[39;49m\u001b[39m.\u001b[39;49mweight, \u001b[39mself\u001b[39;49m\u001b[39m.\u001b[39;49mbias)\n",
      "\u001b[1;31mKeyboardInterrupt\u001b[0m: "
     ]
    }
   ],
   "source": [
    "arguments = list(argument_actions.keys())\n",
    "mode = utils.Mode.STRICT #whether the ranking should be strict or not\n",
    "n_episodes = 10000\n",
    "alpha_theta = 1e-4\n",
    "alpha_w = utils.estimate_alpha_w(len(arguments), n_episodes)\n",
    "orla = ORLABaseline(arguments, 1e-3, 1e-8, device, mode)\n",
    "\n",
    "n=8 #map size\n",
    "p=0.8 #probability of tile being frozen\n",
    "\n",
    "batch_size = 8\n",
    "\n",
    "returns = []\n",
    "rankings_batch = []\n",
    "probs_batch = []\n",
    "returns_batch = []\n",
    "\n",
    "t_episodes = tqdm(range(1, n_episodes+1))\n",
    "for episode in t_episodes:\n",
    "    env = FFL(argument_actions, n, p)\n",
    "\n",
    "    orla.net.train()\n",
    "    ranking, prob = orla.decode_ranking()\n",
    "    score = env.play(ranking)\n",
    "    returns.append(score)\n",
    "\n",
    "    rankings_batch.append(ranking)\n",
    "    probs_batch.append(prob)\n",
    "    returns_batch.append(score)\n",
    "    \n",
    "    \n",
    "    if len(rankings_batch) == batch_size:\n",
    "        orla.learn(rankings_batch, probs_batch, returns_batch)\n",
    "        rankings_batch = []\n",
    "        probs_batch = []\n",
    "        returns_batch = []\n",
    "        past = 1000\n",
    "        t_episodes.set_postfix({'avg': np.average(returns[-past:]), 'last': np.sum(returns[-batch_size:])/batch_size})\n"
   ]
  },
  {
   "attachments": {},
   "cell_type": "markdown",
   "metadata": {},
   "source": [
    "#### Learning curve\n",
    "We see that ORLA has learned a pretty good policy (1 is the maximum attainable reward)"
   ]
  },
  {
   "cell_type": "code",
   "execution_count": 10,
   "metadata": {},
   "outputs": [
    {
     "data": {
      "image/png": "[encoded data removed]",
      "text/plain": [
       "<Figure size 640x480 with 1 Axes>"
      ]
     },
     "metadata": {},
     "output_type": "display_data"
    }
   ],
   "source": [
    "window = 100\n",
    "data = pd.DataFrame(returns)\n",
    "data = data.rolling(window).mean()\n",
    "plt.plot(data)\n",
    "plt.xlabel(\"Episode #\")\n",
    "plt.ylabel(\"Return\")\n",
    "plt.show()"
   ]
  },
  {
   "attachments": {},
   "cell_type": "markdown",
   "metadata": {},
   "source": [
    "#### Learned policy\n",
    "The learned policy can be studied by looking at the learned ranking and the probabilities with which ORLA chose each of those arguments:\n",
    "\n"
   ]
  },
  {
   "cell_type": "code",
   "execution_count": 11,
   "metadata": {},
   "outputs": [
    {
     "name": "stdout",
     "output_type": "stream",
     "text": [
      "Learned ranking: [['nR'], ['nU'], ['nD'], ['D'], ['L'], ['nL'], ['R'], ['U']]\n",
      "    probabilities: tensor([0.9987, 0.5578, 0.9272, 0.8165, 0.8840, 0.9351, 0.8498, 1.0000],\n",
      "       grad_fn=<StackBackward0>)\n"
     ]
    }
   ],
   "source": [
    "ranking, probs = orla.decode_ranking(True)\n",
    "print(\"Learned ranking:\", ranking)\n",
    "print(\"    probabilities:\", probs)"
   ]
  },
  {
   "attachments": {},
   "cell_type": "markdown",
   "metadata": {},
   "source": [
    "#### The learned policy in action\n",
    "The following cell creates a new FFL instance and renders an episode using the VAF derived from the learned ranking as the inference engine"
   ]
  },
  {
   "cell_type": "code",
   "execution_count": 22,
   "metadata": {},
   "outputs": [],
   "source": [
    "env = FFL(argument_actions, n, p, render=True)\n",
    "_ = env.play(ranking)"
   ]
  }
 ],
 "metadata": {
  "kernelspec": {
   "display_name": "py39",
   "language": "python",
   "name": "python3"
  },
  "language_info": {
   "codemirror_mode": {
    "name": "ipython",
    "version": 3
   },
   "file_extension": ".py",
   "mimetype": "text/x-python",
   "name": "python",
   "nbconvert_exporter": "python",
   "pygments_lexer": "ipython3",
   "version": "3.9.13"
  },
  "orig_nbformat": 4
 },
 "nbformat": 4,
 "nbformat_minor": 2
}
