{
 "cells": [
  {
   "cell_type": "code",
   "execution_count": 1,
   "metadata": {},
   "outputs": [
    {
     "name": "stdout",
     "output_type": "stream",
     "text": [
      "Using device: cpu\n"
     ]
    }
   ],
   "source": [
    "import torch\n",
    "import utils\n",
    "\n",
    "from environments.foggy_frozen_lake.utils import argument_actions\n",
    "from environments.foggy_frozen_lake.FFL import FFL\n",
    "\n",
    "from agents.orla import ORLABaseline\n",
    "import numpy as np\n",
    "import pandas as pd\n",
    "from tqdm.notebook import tqdm\n",
    "import matplotlib.pyplot as plt\n",
    "\n",
    "device = torch.device('cuda' if torch.cuda.is_available() else 'cpu')\n",
    "print('Using device:', device)"
   ]
  },
  {
   "attachments": {},
   "cell_type": "markdown",
   "metadata": {},
   "source": [
    "# Using ORLA to solve Foggy Frozen Lake (FFL)\n",
    "This jupyter notebook showcases the use of [ORLA](https://github.com/omcandido/ORLA) to solve the FFL game, which is a variation of Frozen Lake (FL), an archetypal text-based game that comes with Gymnasium out-of-the-box.\n",
    "\n",
    "In its original formulation, FL consists of a squared grid-like world where some cells are frozen (F) and others are holes (H). The agent needs to go from the start (S) in the upper left corner to the goal (G) in the lower right corner. Here is a text-based example of ORLA solving this game:\n",
    "\n",
    "<center><img src=\"../imgs/FL.gif\" width=\"350\"></center>\n",
    "\n",
    "\n",
    "## Frozen Lake with a twist\n",
    "To make things more interesting, we introduce FFL, a variant of FL where the player can only observe its immediately neigbouring cells (as if some kind of dense fog shortened the player's sight) and the tile index it is at.\n",
    "Here is a graphics-rendered example where the elf is the player and the red square around it represents observations:\n",
    "<center><img src=\"../imgs/FFL.gif\" width=\"350\"></center>\n",
    "\n",
    "This new formulation of the game is done to create a hiden state of the game so that the player needs both factual knowledge (derived from the current state of the world) and memory knowledge (derived from past states) to achieve a high score.\n",
    "\n"
   ]
  },
  {
   "attachments": {},
   "cell_type": "markdown",
   "metadata": {},
   "source": [
    "## An Argumentation Framework (AF) to play FFL\n",
    "\n",
    "An argumentation framework is a set of arguments and attacks, where each argument recommends an action when all its associated conditions (premises) are satisfied at some point in the game. Every two attacks that recommend different actions attack each other.\n",
    "\n",
    "With this in mind, we can come up with the following set of arguments:\n",
    "```\n",
    "-  U: go UP      if   cell-up     is   safe\n",
    "-  D: go DOWN    if   cell-down   is   safe\n",
    "-  L: go LEFT    if   cell-left   is   safe\n",
    "-  R: go RIGHT   if   cell-right  is   safe\n",
    "- nU: go UP      if   cell-up     is   safe   &   new\n",
    "- nD: go DOWN    if   cell-down   is   safe   &   new\n",
    "- nL: go LEFT    if   cell-left   is   safe   &   new\n",
    "- nR: go RIGHT   if   cell-right  is   safe   &   new\n",
    "```\n",
    "\n",
    "Where arguments X promote exploring safe tiles and arguments nX promote exploring safe and unexplored squares. The complete AF can be represented through a graph, where the directed arrows represent attacks between arguments (i.e., A->B means A attacks B) would look like this:\n",
    "\n",
    "<center><img src=\"../imgs/AF_FFL.png\" width=\"300\"></center>\n",
    "\n",
    "\n"
   ]
  },
  {
   "attachments": {},
   "cell_type": "markdown",
   "metadata": {},
   "source": [
    "## Learning a good ranking with ORLA\n",
    "\n",
    "The goal of ORLA is to learn a ranking of the arguments such that the derived value-based argumentation framework (VAF) can be used as an inference engine by the agent to solve FFL.\n",
    "\n",
    "ORLA is task-agnostic. This means that it just tries to maximise the reward of an MDP (see paper) regardless of what the specific task is. In this case, the task to solve is FFL. The rest of this notebook explains how to implement everything necessary to have ORLA solve FFL. If you want to apply ORLA to your own reinforcement learning task, follow along and create your own task-specific code.\n",
    "\n",
    "\n",
    "#### Create a dictionary for your arguments and actions\n",
    "ORLA needs a dictionary of the form ``{argument_name: action_name}``. This is what the arguments for ORLA look like in code:"
   ]
  },
  {
   "cell_type": "code",
   "execution_count": 2,
   "metadata": {},
   "outputs": [
    {
     "data": {
      "text/plain": [
       "{'U': <FLActions.UP: 3>,\n",
       " 'L': <FLActions.LEFT: 0>,\n",
       " 'R': <FLActions.RIGHT: 2>,\n",
       " 'D': <FLActions.DOWN: 1>,\n",
       " 'nD': <FLActions.DOWN: 1>,\n",
       " 'nL': <FLActions.LEFT: 0>,\n",
       " 'nR': <FLActions.RIGHT: 2>,\n",
       " 'nU': <FLActions.UP: 3>}"
      ]
     },
     "execution_count": 2,
     "metadata": {},
     "output_type": "execute_result"
    }
   ],
   "source": [
    "argument_actions"
   ]
  },
  {
   "attachments": {},
   "cell_type": "markdown",
   "metadata": {},
   "source": [
    "\n",
    "#### Extend the ``Environment`` class\n",
    "The interaction between the task and ORLA takes place via the abstract ``Environment`` class. You will need to inherit this class and implement your own methods:\n",
    "- ``get_premises``: from the current observation and memory, which premises hold?\n",
    "- ``get_arguments``: from the current premises, what arguments are applicable?\n",
    "- ``update_memory``: how should memory be updated at each step?\n",
    "- ``reset_memory``: how should memory be initialised?\n"
   ]
  },
  {
   "attachments": {},
   "cell_type": "markdown",
   "metadata": {},
   "source": [
    "### Training\n",
    "Once the Arguments and the Environment are defined, we can instantiate an ORLA agent and train it for 10k of episodes. Note that we are sampling a new environment every episode, so ORLA will have to learn a policy for the distribution of FFL games with paramenters ``n`` and ``p``.\n",
    "\n"
   ]
  },
  {
   "cell_type": "code",
   "execution_count": 4,
   "metadata": {},
   "outputs": [
    {
     "data": {
      "application/vnd.jupyter.widget-view+json": {
       "model_id": "54c9fe72dc2844ac8e95f4e70dde6a76",
       "version_major": 2,
       "version_minor": 0
      },
      "text/plain": [
       "  0%|          | 0/10000 [00:00<?, ?it/s]"
      ]
     },
     "metadata": {},
     "output_type": "display_data"
    }
   ],
   "source": [
    "arguments = list(argument_actions.keys())\n",
    "mode = utils.Mode.STRICT #whether the ranking should be strict or not\n",
    "n_episodes = 10000\n",
    "alpha_theta = 5e-4\n",
    "alpha_w = utils.estimate_alpha_w(len(arguments), n_episodes)\n",
    "orla = ORLABaseline(arguments, alpha_theta, alpha_w, device, mode)\n",
    "\n",
    "n=8 #map size\n",
    "p=0.8 #probability of tile being frozen\n",
    "\n",
    "batch_size = 8\n",
    "\n",
    "returns = []\n",
    "rankings_batch = []\n",
    "probs_batch = []\n",
    "returns_batch = []\n",
    "\n",
    "t_episodes = tqdm(range(1, n_episodes+1))\n",
    "for episode in t_episodes:\n",
    "    env = FFL(argument_actions, n, p)\n",
    "\n",
    "    orla.net.train()\n",
    "    ranking, prob = orla.decode_ranking()\n",
    "    score = env.play(ranking)\n",
    "    returns.append(score)\n",
    "\n",
    "    rankings_batch.append(ranking)\n",
    "    probs_batch.append(prob)\n",
    "    returns_batch.append(score)\n",
    "    \n",
    "    \n",
    "    if len(rankings_batch) == batch_size:\n",
    "        orla.learn(rankings_batch, probs_batch, returns_batch)\n",
    "        rankings_batch = []\n",
    "        probs_batch = []\n",
    "        returns_batch = []\n",
    "        past = 1000\n",
    "        t_episodes.set_postfix({'avg': np.average(returns[-past:]), 'last': np.sum(returns[-batch_size:])/batch_size})\n"
   ]
  },
  {
   "attachments": {},
   "cell_type": "markdown",
   "metadata": {},
   "source": [
    "#### Learning curve\n",
    "We see that ORLA has learned a pretty good policy (1 is the maximum attainable reward)"
   ]
  },
  {
   "cell_type": "code",
   "execution_count": 5,
   "metadata": {},
   "outputs": [
    {
     "data": {
      "image/png": "[encoded data removed]",
      "text/plain": [
       "<Figure size 640x480 with 1 Axes>"
      ]
     },
     "metadata": {},
     "output_type": "display_data"
    }
   ],
   "source": [
    "window = 100\n",
    "data = pd.DataFrame(returns)\n",
    "data = data.rolling(window).mean()\n",
    "plt.plot(data)\n",
    "plt.xlabel(\"Episode #\")\n",
    "plt.ylabel(\"Return\")\n",
    "plt.show()"
   ]
  },
  {
   "attachments": {},
   "cell_type": "markdown",
   "metadata": {},
   "source": [
    "#### Learned policy\n",
    "The learned policy can be studied by looking at the learned ranking and the probabilities with which ORLA chose each of those arguments:\n",
    "\n"
   ]
  },
  {
   "cell_type": "code",
   "execution_count": 6,
   "metadata": {},
   "outputs": [
    {
     "name": "stdout",
     "output_type": "stream",
     "text": [
      "Learned ranking: [['nR'], ['nD'], ['L'], ['nL'], ['U'], ['nU'], ['D'], ['R']]\n",
      "    probabilities: tensor([0.9958, 0.9995, 0.9612, 0.5807, 0.6851, 0.9458, 0.7821, 1.0000],\n",
      "       grad_fn=<StackBackward0>)\n"
     ]
    }
   ],
   "source": [
    "ranking, probs = orla.decode_ranking(True)\n",
    "print(\"Learned ranking:\", ranking)\n",
    "print(\"    probabilities:\", probs)"
   ]
  },
  {
   "attachments": {},
   "cell_type": "markdown",
   "metadata": {},
   "source": [
    "#### The learned policy in action\n",
    "The following cell creates a new FFL instance and renders an episode using the VAF derived from the learned ranking as the inference engine"
   ]
  },
  {
   "cell_type": "code",
   "execution_count": 22,
   "metadata": {},
   "outputs": [],
   "source": [
    "env = FFL(argument_actions, n, p, render=True)\n",
    "_ = env.play(ranking)"
   ]
  }
 ],
 "metadata": {
  "kernelspec": {
   "display_name": "py39",
   "language": "python",
   "name": "python3"
  },
  "language_info": {
   "codemirror_mode": {
    "name": "ipython",
    "version": 3
   },
   "file_extension": ".py",
   "mimetype": "text/x-python",
   "name": "python",
   "nbconvert_exporter": "python",
   "pygments_lexer": "ipython3",
   "version": "3.9.13"
  },
  "orig_nbformat": 4
 },
 "nbformat": 4,
 "nbformat_minor": 2
}
