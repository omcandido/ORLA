{
 "cells": [
  {
   "attachments": {},
   "cell_type": "markdown",
   "metadata": {},
   "source": [
    "# ORLA: learning to play Takeaway\n",
    "[_Keepaway_](https://www.cs.utexas.edu/~AustinVilla/sim/keepaway/) is a soccer-like game in which a team of _keepers_ and a team of _takers_ compete for the possession of the ball. The game always starts with one of the keepers having possession of the ball. [_Takeaway_](https://arxiv.org/abs/2004.07928) is the name that Keepaway receives when the takers are the only learning agents and the keepers follow a fixed policy. Our Takeaway matches are played with 4 keepers and 3 Takers on a 40x40 field (unless stated otherwise). Here is a screenshot showing what a newly generated Takeaway match looks like:\n",
    "<center><img src=\"../imgs/keepaway_screenshot.png\" width=\"300\"></center>\n",
    "\n",
    "To solve the takeaway task, an expert proposes the following arguments (in brackets, the corresponding naming in our paper): TakleBallX ($TB_i$), MinAngleX,Y ($A_ij$), MinDistX,Y ($C_i,j$), OpenKeeperX,Y ($O_ij$), and FarKeeperX,Y ($F_ij$). See paper for further details.\n",
    "\n",
    "This notebook explains how ORLA can be used to decode both a local ($\\texttt{M}_\\text{loc}$) and global ($\\texttt{M}_\\text{glob}$) ranking."
   ]
  },
  {
   "attachments": {},
   "cell_type": "markdown",
   "metadata": {},
   "source": [
    "## Setting things up\n",
    "### Imports"
   ]
  },
  {
   "cell_type": "code",
   "execution_count": 1,
   "metadata": {},
   "outputs": [
    {
     "name": "stdout",
     "output_type": "stream",
     "text": [
      "Using device: cpu\n"
     ]
    }
   ],
   "source": [
    "from argumentation import utils as argm\n",
    "from environments.takeaway import utils as tkwy\n",
    "from environments.takeaway.takeaway import Takeaway\n",
    "from agents.orla import ORLABaseline\n",
    "import utils\n",
    "\n",
    "import numpy as np\n",
    "import torch\n",
    "from tqdm.notebook import tqdm\n",
    "from utils import plot_returns\n",
    "\n",
    "device = torch.device('cuda' if torch.cuda.is_available() else 'cpu')\n",
    "print('Using device:', device)"
   ]
  },
  {
   "attachments": {},
   "cell_type": "markdown",
   "metadata": {},
   "source": [
    "### Connecting with RoboCup\n",
    "\n",
    "Takeaway is implemented on [rcssserver](https://github.com/omcandido/rcssserver_orla) and uses the [keepaway library](https://github.com/omcandido/keepaway_orla) as an interface with the learning agents. Here, ORLA assumes that takewaway runs on a WSL2 instance and connects to it via sockets:"
   ]
  },
  {
   "cell_type": "code",
   "execution_count": 2,
   "metadata": {},
   "outputs": [],
   "source": [
    "send_host = tkwy.get_host('send')\n",
    "send_port = 7000\n",
    "recv_host = tkwy.get_host('recv')\n",
    "recv_port = 7001"
   ]
  },
  {
   "attachments": {},
   "cell_type": "markdown",
   "metadata": {},
   "source": [
    "### Loading the expert arguments"
   ]
  },
  {
   "cell_type": "code",
   "execution_count": 7,
   "metadata": {},
   "outputs": [
    {
     "name": "stdout",
     "output_type": "stream",
     "text": [
      "There are 39 expert arguments: ['TackleBall1', 'OpenKeeper1,2', 'FarKeeper1,2', 'MinAngle1,2', 'MinDist1,2', 'OpenKeeper1,3', 'FarKeeper1,3', 'MinAngle1,3', 'MinDist1,3', 'OpenKeeper1,4', 'FarKeeper1,4', 'MinAngle1,4', 'MinDist1,4', 'TackleBall2', 'OpenKeeper2,2', 'FarKeeper2,2', 'MinAngle2,2', 'MinDist2,2', 'OpenKeeper2,3', 'FarKeeper2,3', 'MinAngle2,3', 'MinDist2,3', 'OpenKeeper2,4', 'FarKeeper2,4', 'MinAngle2,4', 'MinDist2,4', 'TackleBall3', 'OpenKeeper3,2', 'FarKeeper3,2', 'MinAngle3,2', 'MinDist3,2', 'OpenKeeper3,3', 'FarKeeper3,3', 'MinAngle3,3', 'MinDist3,3', 'OpenKeeper3,4', 'FarKeeper3,4', 'MinAngle3,4', 'MinDist3,4']\n"
     ]
    }
   ],
   "source": [
    "argument_actions = tkwy.arg_actions\n",
    "arguments = list(argument_actions.keys())\n",
    "\n",
    "print(\"There are {} expert arguments: {}\".format(len(arguments), arguments))"
   ]
  },
  {
   "attachments": {},
   "cell_type": "markdown",
   "metadata": {},
   "source": [
    "### The environment\n",
    "The environment evaluates the ranking decoded by ORLA by using it as a reasoning engine by the takers on a Takeaway match.\n",
    "The variable _ranking_path_ contains the file with the ranking decoded by ORLA, which is updated before every match and directly read by the takers"
   ]
  },
  {
   "cell_type": "code",
   "execution_count": 8,
   "metadata": {},
   "outputs": [],
   "source": [
    "ranking_path = r\"\\\\wsl.localhost\\Ubuntu16\\home\\candido\\keepaway_orla\\player\\orla\\ordering.txt\"\n",
    "env = Takeaway(\n",
    "    argument_actions,\n",
    "    send_host,\n",
    "    send_port,\n",
    "    recv_host,\n",
    "    recv_port,\n",
    "    ranking_path\n",
    ")"
   ]
  },
  {
   "attachments": {},
   "cell_type": "markdown",
   "metadata": {},
   "source": [
    "## Experiment 1"
   ]
  },
  {
   "attachments": {},
   "cell_type": "markdown",
   "metadata": {},
   "source": [
    "### The agent: $\\mathtt{M}_\\text{loc}$\n",
    "We call $\\mathtt{M}_\\text{loc}$ to the ORLA model resulting from learning a strict ranking over the expert arguments. Note that our learning model consists of two sets of parameters: $\\alpha^\\theta$ (the preference function, in this case, the NN) and $\\alpha^w$ (the baseline). This is the agent of the RL pipeline: "
   ]
  },
  {
   "cell_type": "code",
   "execution_count": 9,
   "metadata": {},
   "outputs": [],
   "source": [
    "alpha_th = 5e-5\n",
    "alpha_w = utils.estimate_alpha_w(len(arguments), 1e5)\n",
    "\n",
    "mode = utils.Mode.STRICT\n",
    "orla_loc = ORLABaseline(arguments,alpha_th, alpha_w, device, mode)"
   ]
  },
  {
   "cell_type": "code",
   "execution_count": 10,
   "metadata": {},
   "outputs": [
    {
     "data": {
      "text/plain": [
       "([['OpenKeeper2,2'],\n",
       "  ['MinDist2,2'],\n",
       "  ['FarKeeper3,3'],\n",
       "  ['OpenKeeper3,2'],\n",
       "  ['OpenKeeper2,3'],\n",
       "  ['OpenKeeper1,2'],\n",
       "  ['MinAngle2,2'],\n",
       "  ['MinAngle3,4'],\n",
       "  ['OpenKeeper2,4'],\n",
       "  ['TackleBall3'],\n",
       "  ['FarKeeper1,3'],\n",
       "  ['OpenKeeper1,3'],\n",
       "  ['TackleBall1'],\n",
       "  ['OpenKeeper3,4'],\n",
       "  ['MinAngle1,3'],\n",
       "  ['FarKeeper3,4'],\n",
       "  ['MinDist1,2'],\n",
       "  ['MinDist1,4'],\n",
       "  ['FarKeeper3,2'],\n",
       "  ['OpenKeeper1,4'],\n",
       "  ['MinDist1,3'],\n",
       "  ['MinAngle3,3'],\n",
       "  ['MinDist3,2'],\n",
       "  ['MinDist3,3'],\n",
       "  ['MinDist2,3'],\n",
       "  ['MinAngle3,2'],\n",
       "  ['FarKeeper2,4'],\n",
       "  ['MinDist3,4'],\n",
       "  ['MinDist2,4'],\n",
       "  ['TackleBall2'],\n",
       "  ['MinAngle1,2'],\n",
       "  ['OpenKeeper3,3'],\n",
       "  ['FarKeeper1,2'],\n",
       "  ['MinAngle1,4'],\n",
       "  ['MinAngle2,3'],\n",
       "  ['FarKeeper2,3'],\n",
       "  ['FarKeeper1,4'],\n",
       "  ['FarKeeper2,2'],\n",
       "  ['MinAngle2,4']],\n",
       " tensor([0.0282, 0.0368, 0.0241, 0.0325, 0.0309, 0.0269, 0.0247, 0.0341, 0.0364,\n",
       "         0.0336, 0.0306, 0.0460, 0.0484, 0.0350, 0.0428, 0.0454, 0.0320, 0.0500,\n",
       "         0.0314, 0.0484, 0.0513, 0.0680, 0.0609, 0.0622, 0.0658, 0.0635, 0.0960,\n",
       "         0.0968, 0.0788, 0.1061, 0.1153, 0.1589, 0.1665, 0.1516, 0.1740, 0.2402,\n",
       "         0.3712, 0.4871, 1.0000], grad_fn=<StackBackward0>))"
      ]
     },
     "execution_count": 10,
     "metadata": {},
     "output_type": "execute_result"
    }
   ],
   "source": [
    "orla_loc.decode_ranking()"
   ]
  },
  {
   "attachments": {},
   "cell_type": "markdown",
   "metadata": {},
   "source": [
    "#### Load the model\n",
    "Optionally, we can load a (pre)trained model."
   ]
  },
  {
   "cell_type": "code",
   "execution_count": 6,
   "metadata": {},
   "outputs": [],
   "source": [
    "# orla_loc.w = np.load(\"saved_models/orla_local/w.npy\")\n",
    "# orla_loc.net.load_state_dict(torch.load(\"saved_models/orla_local/model.pt\"))"
   ]
  },
  {
   "attachments": {},
   "cell_type": "markdown",
   "metadata": {},
   "source": [
    "### Training\n",
    "We train in mini-batches.\n",
    "\n",
    "Note: it is a good idea to visualize in the beginning how the probabilities of picking first arguments 0, 13 and 26 (TackleBall arguments) evolve to check that the learning rate is not too high. I chose these arguments because they are expected to be the most important ones, according to the expert, so seeing their probabilities slowly increase is a good sign."
   ]
  },
  {
   "cell_type": "code",
   "execution_count": 7,
   "metadata": {},
   "outputs": [
    {
     "data": {
      "application/vnd.jupyter.widget-view+json": {
       "model_id": "ffb77cc181ec4016b370679523dfe4f6",
       "version_major": 2,
       "version_minor": 0
      },
      "text/plain": [
       "  0%|          | 0/4000 [00:00<?, ?it/s]"
      ]
     },
     "metadata": {},
     "output_type": "display_data"
    }
   ],
   "source": [
    "batch_size = 8\n",
    "\n",
    "returns = []\n",
    "rankings_batch = []\n",
    "probs_batch = []\n",
    "returns_batch = []\n",
    "\n",
    "t_episodes = tqdm(range(1, int(4e3)+1))\n",
    "for episode in t_episodes:\n",
    "    orla_loc.net.train()\n",
    "    ranking, prob = orla_loc.decode_ranking()\n",
    "    score = env.play(ranking)\n",
    "    returns.append(score)\n",
    "\n",
    "    rankings_batch.append(ranking)\n",
    "    probs_batch.append(prob)\n",
    "    returns_batch.append(score)\n",
    "    \n",
    "    if len(rankings_batch) == batch_size:\n",
    "        orla_loc.learn(rankings_batch, probs_batch, returns_batch)\n",
    "        rankings_batch = []\n",
    "        probs_batch = []\n",
    "        returns_batch = []\n",
    "        past = 1000\n",
    "        t_episodes.set_postfix({'avg': np.average(returns[-past:]), 'last': np.sum(returns[-batch_size:])/batch_size})\n",
    "\n",
    "    # # Print the probabilities of Tackleball_{1,2 and 3} being the first chosen argument.\n",
    "    # # It can give you an idea of how good your learning rate is:\n",
    "    # orla_loc.net.eval()\n",
    "    # ranking = []\n",
    "    # state = argm.ranking_to_matrix(ranking, args, True)\n",
    "    # state = torch.from_numpy(state).float().flatten().to(device)\n",
    "    # remaining = orla_loc.remaining_arguments(ranking)\n",
    "    # mask = orla_loc.mask_remaining(remaining)\n",
    "    # orla_loc.net.mask = torch.from_numpy(mask).bool().to(device)\n",
    "    # print(orla_loc.net(state)[0].item(), orla_loc.net(state)[13].item(), orla_loc.net(state)[26].item())\n"
   ]
  },
  {
   "attachments": {},
   "cell_type": "markdown",
   "metadata": {},
   "source": [
    "#### Learning curve\n",
    "We plot the learning curve of the model by applying a rolling window (feel free to train it further to ensure convergence)."
   ]
  },
  {
   "cell_type": "code",
   "execution_count": 8,
   "metadata": {},
   "outputs": [
    {
     "data": {
      "image/png": "[encoded data removed]",
      "text/plain": [
       "<Figure size 640x480 with 1 Axes>"
      ]
     },
     "metadata": {},
     "output_type": "display_data"
    }
   ],
   "source": [
    "plot_returns(returns, window = 1000)"
   ]
  },
  {
   "attachments": {},
   "cell_type": "markdown",
   "metadata": {},
   "source": [
    "### Save the model\n",
    "If you are done training the model, you can save it:"
   ]
  },
  {
   "cell_type": "code",
   "execution_count": 10,
   "metadata": {},
   "outputs": [],
   "source": [
    "np.save(\"saved_models/orla_local/w.npy\", orla_loc.w)\n",
    "torch.save(orla_loc.net.state_dict(), \"saved_models/orla_local/model.pt\")"
   ]
  },
  {
   "attachments": {},
   "cell_type": "markdown",
   "metadata": {},
   "source": [
    "### Analysis of the local strategy\n",
    "Let's see what strategy each of the $\\mathtt{M}_\\text{loc}$ takers has learned (note that this is model has been trained for demonstration purposes and its policy may differ from that shown in the paper):"
   ]
  },
  {
   "cell_type": "code",
   "execution_count": 11,
   "metadata": {},
   "outputs": [
    {
     "name": "stdout",
     "output_type": "stream",
     "text": [
      "    T1:  [['TackleBall1'], ['MinAngle1,2'], ['MinAngle1,3'], ['OpenKeeper1,4'], ['OpenKeeper1,2'], ['OpenKeeper1,3'], ['MinDist1,3'], ['MinDist1,4'], ['FarKeeper1,4'], ['MinAngle1,4'], ['FarKeeper1,3'], ['FarKeeper1,2'], ['MinDist1,2']]\n",
      "    T2:  [['TackleBall2'], ['MinAngle2,3'], ['MinDist2,4'], ['MinAngle2,4'], ['OpenKeeper2,2'], ['OpenKeeper2,3'], ['MinAngle2,2'], ['OpenKeeper2,4'], ['FarKeeper2,3'], ['MinDist2,2'], ['FarKeeper2,4'], ['FarKeeper2,2'], ['MinDist2,3']]\n",
      "    T3:  [['TackleBall3'], ['FarKeeper3,4'], ['MinDist3,2'], ['MinAngle3,3'], ['FarKeeper3,3'], ['MinAngle3,4'], ['MinAngle3,2'], ['OpenKeeper3,3'], ['OpenKeeper3,2'], ['OpenKeeper3,4'], ['MinDist3,3'], ['MinDist3,4'], ['FarKeeper3,2']]\n"
     ]
    }
   ],
   "source": [
    "ranking, probs = orla_loc.decode_ranking(True)\n",
    "tkwy.show_ranking_by_taker(ranking)"
   ]
  },
  {
   "attachments": {},
   "cell_type": "markdown",
   "metadata": {},
   "source": [
    "## Experiment 2\n",
    "### The agent: $\\mathtt{M}_\\text{glob}$\n",
    "We call $\\mathtt{M}_\\text{glob}$ to the ORLA model resulting from learning a non-strict ranking over the expert arguments, by grouping the average rank of the arguments of the same type."
   ]
  },
  {
   "cell_type": "code",
   "execution_count": 12,
   "metadata": {},
   "outputs": [],
   "source": [
    "alpha_th = 4e-5\n",
    "alpha_w = utils.estimate_alpha_w(len(args), 1e5)\n",
    "\n",
    "MODE = utils.Mode.STRICT\n",
    "orla_glob = ORLABaseline(args,alpha_th, alpha_w, device, mode)\n"
   ]
  },
  {
   "attachments": {},
   "cell_type": "markdown",
   "metadata": {},
   "source": [
    "### Optionally, load a pre(trained) model"
   ]
  },
  {
   "cell_type": "code",
   "execution_count": 13,
   "metadata": {},
   "outputs": [],
   "source": [
    "# orla_glob.w = np.load(\"saved_models/orla_global/w.npy\")\n",
    "# orla_glob.net.load_state_dict(torch.load(\"saved_models/orla_global/model.pt\"))"
   ]
  },
  {
   "attachments": {},
   "cell_type": "markdown",
   "metadata": {},
   "source": [
    "### Training"
   ]
  },
  {
   "cell_type": "code",
   "execution_count": 14,
   "metadata": {},
   "outputs": [
    {
     "data": {
      "application/vnd.jupyter.widget-view+json": {
       "model_id": "497552239b07456dbad9b06f6c069349",
       "version_major": 2,
       "version_minor": 0
      },
      "text/plain": [
       "  0%|          | 0/4000 [00:00<?, ?it/s]"
      ]
     },
     "metadata": {},
     "output_type": "display_data"
    }
   ],
   "source": [
    "batch_size = 8\n",
    "\n",
    "returns = []\n",
    "rankings_batch = []\n",
    "probs_batch = []\n",
    "returns_batch = []\n",
    "\n",
    "t_episodes = tqdm(range(1, int(4e3)+1))\n",
    "for episode in t_episodes:\n",
    "    orla_glob.net.train()\n",
    "    ranking, prob = orla_glob.decode_ranking()\n",
    "    # Now obtain the global ranking:\n",
    "    _, arg_val = tkwy.get_global_values(ranking)\n",
    "    ranking = argm.values_to_ranking(arg_val)\n",
    "    score = env.play(ranking)\n",
    "    returns.append(score)\n",
    "\n",
    "    rankings_batch.append(ranking)\n",
    "    probs_batch.append(prob)\n",
    "    returns_batch.append(score)\n",
    "    \n",
    "    if len(rankings_batch) == batch_size:\n",
    "        orla_glob.learn(rankings_batch, probs_batch, returns_batch)\n",
    "        rankings_batch = []\n",
    "        probs_batch = []\n",
    "        returns_batch = []\n",
    "        past = 1000\n",
    "        t_episodes.set_postfix({'avg': np.average(returns[-past:]), 'last': np.sum(returns[-batch_size:])/batch_size})\n"
   ]
  },
  {
   "attachments": {},
   "cell_type": "markdown",
   "metadata": {},
   "source": [
    "#### Learning curve\n",
    "We plot the learning curve of the model by applying a rolling window (feel free to train it further to ensure convergence)."
   ]
  },
  {
   "cell_type": "code",
   "execution_count": 15,
   "metadata": {},
   "outputs": [
    {
     "data": {
      "image/png": "[encoded data removed]",
      "text/plain": [
       "<Figure size 640x480 with 1 Axes>"
      ]
     },
     "metadata": {},
     "output_type": "display_data"
    }
   ],
   "source": [
    "plot_returns(returns, window = 1000)"
   ]
  },
  {
   "attachments": {},
   "cell_type": "markdown",
   "metadata": {},
   "source": [
    "### Save the model"
   ]
  },
  {
   "cell_type": "code",
   "execution_count": 16,
   "metadata": {},
   "outputs": [],
   "source": [
    "np.save(\"saved_models/orla_global/w.npy\", orla_glob.w)\n",
    "torch.save(orla_glob.net.state_dict(), \"saved_models/orla_global/model.pt\")"
   ]
  },
  {
   "attachments": {},
   "cell_type": "markdown",
   "metadata": {},
   "source": [
    "### Analysis of the global strategy\n",
    "Let's see what global strategy $\\mathtt{M}_\\text{glob}$ takers have learned (note that this is model has been trained for demonstration purposes and its policy may differ from that shown in the paper):"
   ]
  },
  {
   "cell_type": "code",
   "execution_count": 17,
   "metadata": {},
   "outputs": [
    {
     "name": "stdout",
     "output_type": "stream",
     "text": [
      "    T1:  [['TackleBall1'], ['MinDist1,2', 'MinDist1,3', 'MinDist1,4'], ['MinAngle1,2', 'MinAngle1,3', 'MinAngle1,4'], ['FarKeeper1,2', 'FarKeeper1,3', 'FarKeeper1,4'], ['OpenKeeper1,2', 'OpenKeeper1,3', 'OpenKeeper1,4']]\n",
      "    T2:  [['TackleBall2'], ['MinDist2,2', 'MinDist2,3', 'MinDist2,4'], ['MinAngle2,2', 'MinAngle2,3', 'MinAngle2,4'], ['FarKeeper2,2', 'FarKeeper2,3', 'FarKeeper2,4'], ['OpenKeeper2,2', 'OpenKeeper2,3', 'OpenKeeper2,4']]\n",
      "    T3:  [['TackleBall3'], ['MinDist3,2', 'MinDist3,3', 'MinDist3,4'], ['MinAngle3,2', 'MinAngle3,3', 'MinAngle3,4'], ['FarKeeper3,2', 'FarKeeper3,3', 'FarKeeper3,4'], ['OpenKeeper3,2', 'OpenKeeper3,3', 'OpenKeeper3,4']]\n"
     ]
    },
    {
     "data": {
      "text/plain": [
       "{'TackleBall': 38,\n",
       " 'MinDist': 27,\n",
       " 'MinAngle': 20,\n",
       " 'FarKeeper': 14,\n",
       " 'OpenKeeper': 12}"
      ]
     },
     "execution_count": 17,
     "metadata": {},
     "output_type": "execute_result"
    }
   ],
   "source": [
    "ranking, probs = orla_glob.decode_ranking(True)\n",
    "glob, arg_val = tkwy.get_global_values(ranking)\n",
    "ranking = argm.values_to_ranking(arg_val)\n",
    "tkwy.show_ranking_by_taker(ranking)\n",
    "glob\n"
   ]
  },
  {
   "attachments": {},
   "cell_type": "markdown",
   "metadata": {},
   "source": [
    "#### Save the decoded global ranking"
   ]
  },
  {
   "cell_type": "code",
   "execution_count": 18,
   "metadata": {},
   "outputs": [],
   "source": [
    "argm.save_values(ranking_path, args, arg_val)"
   ]
  }
 ],
 "metadata": {
  "kernelspec": {
   "display_name": "py39",
   "language": "python",
   "name": "python3"
  },
  "language_info": {
   "codemirror_mode": {
    "name": "ipython",
    "version": 3
   },
   "file_extension": ".py",
   "mimetype": "text/x-python",
   "name": "python",
   "nbconvert_exporter": "python",
   "pygments_lexer": "ipython3",
   "version": "3.9.13"
  },
  "orig_nbformat": 4
 },
 "nbformat": 4,
 "nbformat_minor": 2
}
